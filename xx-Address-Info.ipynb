{
 "cells": [
  {
   "cell_type": "code",
   "execution_count": null,
   "metadata": {
    "dotnet_interactive": {
     "language": "csharp"
    },
    "vscode": {
     "languageId": "dotnet-interactive.csharp"
    }
   },
   "outputs": [
    {
     "data": {
      "text/html": [
       "<div><div></div><div></div><div><strong>Installed Packages</strong><ul><li><span>CardanoSharp.Wallet, 2.14.0</span></li></ul></div></div>"
      ]
     },
     "metadata": {},
     "output_type": "display_data"
    }
   ],
   "source": [
    "#r \"nuget:CardanoSharp.Wallet,2.14.0\""
   ]
  },
  {
   "cell_type": "code",
   "execution_count": null,
   "metadata": {
    "dotnet_interactive": {
     "language": "csharp"
    },
    "vscode": {
     "languageId": "dotnet-interactive.csharp"
    }
   },
   "outputs": [
    {
     "name": "stdout",
     "output_type": "stream",
     "text": [
      "stake1u9mdzc69gtylzkprn3ppascy38n7qktx0k9h3swljzacpdg4fhzm8\r\n",
      "True\r\n"
     ]
    }
   ],
   "source": [
    "using CardanoSharp.Wallet;\n",
    "using CardanoSharp.Wallet.Models.Addresses;\n",
    "\n",
    "var stakeAddress = new AddressService().ExtractRewardAddress(new Address(\"addr1q8vjm0psg042f4gv304we9uq0yt0dtrxlxpd9dtydc0vhxmk69352skf79vz88zzrmpsfz08upvkvlvt0rqaly9msz6s0j4al6\"));\n",
    "Console.WriteLine(stakeAddress);\n",
    "Console.WriteLine(stakeAddress.Equals(\"stake1u9mdzc69gtylzkprn3ppascy38n7qktx0k9h3swljzacpdg4fhzm8\"));"
   ]
  }
 ],
 "metadata": {
  "kernelspec": {
   "display_name": ".NET (C#)",
   "language": "C#",
   "name": ".net-csharp"
  },
  "language_info": {
   "file_extension": ".cs",
   "mimetype": "text/x-csharp",
   "name": "C#",
   "pygments_lexer": "csharp",
   "version": "9.0"
  },
  "orig_nbformat": 4
 },
 "nbformat": 4,
 "nbformat_minor": 2
}
