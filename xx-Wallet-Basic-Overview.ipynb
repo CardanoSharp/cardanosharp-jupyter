{
 "cells": [
  {
   "cell_type": "code",
   "execution_count": null,
   "metadata": {
    "dotnet_interactive": {
     "language": "csharp"
    },
    "vscode": {
     "languageId": "dotnet-interactive.csharp"
    }
   },
   "outputs": [
    {
     "data": {
      "text/html": [
       "<div><div></div><div></div><div><strong>Installed Packages</strong><ul><li><span>CardanoSharp.Wallet, 0.2.2</span></li><li><span>Flurl, 3.0.2</span></li><li><span>Flurl.Http, 3.2.0</span></li></ul></div></div>"
      ]
     },
     "metadata": {},
     "output_type": "display_data"
    }
   ],
   "source": [
    "#r \"nuget:CardanoSharp.Wallet,0.2.2\"\n",
    "#r \"nuget:Flurl\"\n",
    "#r \"nuget:Flurl.Http\""
   ]
  },
  {
   "cell_type": "markdown",
   "metadata": {},
   "source": [
    "# Wallet Basic Overview\n",
    "\n",
    "In this section, we're going to review how to:\n",
    " - Generate a New Mnemonic\n",
    " - Restore a Mnemonic\n",
    " - Get the Root Key for the Mnemonic\n",
    " - Derive Private and Public Keys\n",
    " - Generate an Address\n"
   ]
  },
  {
   "cell_type": "markdown",
   "metadata": {},
   "source": [
    "## Generate a New Mnemonic \n",
    "\n",
    "Lets start simple. Here were just going to generate a new mnemonic."
   ]
  },
  {
   "cell_type": "code",
   "execution_count": null,
   "metadata": {
    "dotnet_interactive": {
     "language": "csharp"
    },
    "vscode": {
     "languageId": "dotnet-interactive.csharp"
    }
   },
   "outputs": [
    {
     "name": "stdout",
     "output_type": "stream",
     "text": [
      "[{2: 0, 7: h'8DC8A798A1DA0E2A6DF17E66B10A49B5047133DD4DAAE2686EF1F73369D3FA16'}, {}, [{1234: {\"name\": \"simple message\"}}, []]]\r\n",
      "System.Byte[]\r\n"
     ]
    }
   ],
   "source": [
    "using CardanoSharp.Wallet;\n",
    "using CardanoSharp.Wallet.Enums;\n",
    "using CardanoSharp.Wallet.Models.Keys;\n",
    "using CardanoSharp.Wallet.Models;\n",
    "using CardanoSharp.Wallet.Models.Transactions;\n",
    "using CardanoSharp.Wallet.Models.Derivations;\n",
    "using CardanoSharp.Wallet.Extensions;\n",
    "using CardanoSharp.Wallet.Extensions.Models;\n",
    "using CardanoSharp.Wallet.Extensions.Models.Transactions;\n",
    "\n",
    "IKeyService keyService = new KeyService();\n",
    "Mnemonic mnemonic = keyService.Generate(24, WordLists.English);\n",
    "\n",
    "// Console.WriteLine($\"Words: {mnemonic.Words}\");\n",
    "// Console.WriteLine($\"Entropy: {mnemonic.Entropy.ToStringHex()}\");\n",
    "\n",
    "MasterNodeDerivation masterNode = mnemonic.GetMasterNode();\n",
    "IAccountNodeDerivation accountNode = masterNode\n",
    "    .Derive(PurposeType.Shelley)\n",
    "    .Derive(CoinType.Ada)\n",
    "    .Derive(0);\n",
    "accountNode.SetPublicKey();\n",
    "\n",
    "//Deriving from Public Key\n",
    "var paymentPub = accountNode.PublicKey\n",
    "    .Derive(RoleType.ExternalChain)\n",
    "    .Derive(0);\n",
    "var stakePub = accountNode.PublicKey\n",
    "    .Derive(RoleType.Staking)\n",
    "    .Derive(0);\n",
    "\n",
    "\n",
    "//Deriving from Private Key\n",
    "var paymentNode = accountNode.PrivateKey\n",
    "    .Derive(RoleType.ExternalChain)\n",
    "    .Derive(0);\n",
    "paymentNode.SetPublicKey();\n",
    "var stakeNode = accountNode.PrivateKey\n",
    "    .Derive(RoleType.Staking)\n",
    "    .Derive(0);\n",
    "stakeNode.SetPublicKey();\n",
    "\n",
    "Transaction tx = new Transaction();\n",
    "tx.TransactionBody = new TransactionBody() {\n",
    "    TransactionInputs = new List<TransactionInput>(),\n",
    "    TransactionOutputs = new List<TransactionOutput>()\n",
    "};\n",
    "tx.TransactionWitnessSet = new TransactionWitnessSet() {\n",
    "    VKeyWitnesses = new List<VKeyWitness>()\n",
    "};\n",
    "tx.AuxiliaryData = new AuxiliaryData() {\n",
    "    Metadata = new Dictionary<int, object>()\n",
    "    {\n",
    "        { 1234, new { name = \"simple message\" } }\n",
    "    } \n",
    "};\n",
    "var cborSignedTx = tx.GetCBOR();\n",
    "Console.WriteLine(cborSignedTx);\n",
    "var serializedSignedTx = tx.Serialize();\n",
    "Console.WriteLine(serializedSignedTx.ToStringHex());\n",
    "\n",
    "\n",
    "\n",
    "    // PrivateKey rootKey = mnemonic.GetRootKey();\n",
    "    // IAddressService addressService = new AddressService();\n",
    "\n",
    "    // // This path will give us our Stake Key on index 0\n",
    "    // var stakePath = $\"m/1852'/1815'/0'/2/0\";\n",
    "    // // The stakePrv is another Tuple with the Private Key and Chain Code\n",
    "    // var stakePrv = rootKey.Derive(stakePath);\n",
    "    // // Get the Public Key from the Stake Private Key\n",
    "    // var stakePub = stakePrv.GetPublicKey(false); \n",
    "    \n",
    "    // for(var i = 0; i < 20; i++){\n",
    "    //     // This path will give us our Payment Key on index 0\n",
    "    //     string paymentPath = $\"m/1852'/1815'/0'/0/{i}\";\n",
    "    //     // The paymentPrv is another Tuple with the Private Key and Chain Code\n",
    "    //     PrivateKey paymentPrv = rootKey.Derive(paymentPath); //skey\n",
    "    //     // Get the Public Key from the Payment Private Key\n",
    "    //     PublicKey paymentPub = paymentPrv.GetPublicKey(false); //vkey\n",
    "    \n",
    "    //     var baseAddr = addressService.GetAddress(\n",
    "    //         paymentPub, \n",
    "    //         stakePub, \n",
    "    //         NetworkType.Testnet, \n",
    "    //         AddressType.Base);\n",
    "    //     Console.WriteLine($\"Delegation Address: {baseAddr}\");\n",
    "    // }\n",
    "\n"
   ]
  },
  {
   "cell_type": "markdown",
   "metadata": {},
   "source": [
    "## Restoring a Mnemonic\n",
    "\n",
    "Now that we have our mnemonic, lets pretend we are loading it into a new wallet.\n",
    "\n",
    "Here we will take our words and \"Restore\" them. This will produce the same object in the end."
   ]
  },
  {
   "cell_type": "code",
   "execution_count": null,
   "metadata": {
    "dotnet_interactive": {
     "language": "csharp"
    },
    "vscode": {
     "languageId": "dotnet-interactive.csharp"
    }
   },
   "outputs": [],
   "source": [
    "Mnemonic restoredMnemonic = keyService.Restore(mnemonic.Words, WordLists.English);\n",
    "\n",
    "Console.WriteLine($\"Words are the same: {mnemonic.Words == restoredMnemonic.Words}\");\n",
    "Console.WriteLine($\"Entropy are the same: {mnemonic.Entropy.ToStringHex() == restoredMnemonic.Entropy.ToStringHex()}\");"
   ]
  },
  {
   "cell_type": "markdown",
   "metadata": {},
   "source": [
    "## Get the Root Key for the Mnemonic\n",
    "\n",
    "Generating the Root Key is the first step into our Hierarchical Deterministic(HD) Wallet. This key will let us derive any key we want and we will be able to do it over and over again... Deterministic. \n",
    "\n",
    "As users of wallets, we are used to seeing the famous Mnemonic Words, but we also see above that there is something called Entropy. Entropy is the bytes version of your words, and this is the piece that we use to generate our Root Key. So just note that what is really going on here is Words -> Entropy -> Root Key."
   ]
  },
  {
   "cell_type": "code",
   "execution_count": null,
   "metadata": {
    "dotnet_interactive": {
     "language": "csharp"
    },
    "vscode": {
     "languageId": "dotnet-interactive.csharp"
    }
   },
   "outputs": [],
   "source": [
    "using CardanoSharp.Wallet.Extensions.Models;\n",
    "using CardanoSharp.Wallet.Encoding;\n",
    "\n",
    "PrivateKey rootKey = mnemonic.GetRootKey();\n",
    "string rootEncoded = Bech32.Encode(rootKey.Key, \"root_xsk\");\n",
    "Console.WriteLine($\"Bech32 Encoded Root Private Key: {rootEncoded}\");"
   ]
  },
  {
   "cell_type": "markdown",
   "metadata": {},
   "source": [
    "A few points about this root key before we move on to deriving various Private and Public Keys.\n",
    " -  This is the root's private key, but the private key is more specifically an extended private key. This is defined in BIP 32.\n",
    "    -  Learn more about BIP 32: [Click Here](https://en.bitcoin.it/wiki/BIP_0032)\n",
    " -  When encoding, we are following the CIP 005 prefix rules. This is why we put `root_xsk`. \n",
    "    -  Learn more about CIP 0005: [Click Here](https://github.com/cardano-foundation/CIPs/blob/master/CIP-0005/CIP-0005.md)\n"
   ]
  },
  {
   "cell_type": "markdown",
   "metadata": {},
   "source": [
    "## Derive Private and Public Keys\n",
    "\n",
    "Now that we can Create/Retore Mnemonics and get a Root Key, it's time to start deriving some Private and Public keys. This where we dive into the Hierarchical piece of the HD wallet. "
   ]
  },
  {
   "cell_type": "code",
   "execution_count": null,
   "metadata": {
    "dotnet_interactive": {
     "language": "csharp"
    },
    "vscode": {
     "languageId": "dotnet-interactive.csharp"
    }
   },
   "outputs": [],
   "source": [
    "IAddressService addressService = new AddressService();\n",
    "\n",
    "// This path will give us our Stake Key on index 0\n",
    "var stakePath = $\"m/1852'/1815'/0'/2/0\";\n",
    "// The stakePrv is another Tuple with the Private Key and Chain Code\n",
    "var stakePrv = rootKey.Derive(stakePath);\n",
    "// Get the Public Key from the Stake Private Key\n",
    "var stakePub = stakePrv.GetPublicKey(false); \n",
    "\n",
    "for(var i = 0; i < 20; i++){\n",
    "    // This path will give us our Payment Key on index 0\n",
    "    string paymentPath = $\"m/1852'/1815'/0'/0/{i}\";\n",
    "    // The paymentPrv is another Tuple with the Private Key and Chain Code\n",
    "    PrivateKey paymentPrv = rootKey.Derive(paymentPath); //skey\n",
    "    // Get the Public Key from the Payment Private Key\n",
    "    PublicKey paymentPub = paymentPrv.GetPublicKey(false); //vkey\n",
    "\n",
    "    var baseAddr = addressService.GetAddress(\n",
    "        paymentPub, \n",
    "        stakePub, \n",
    "        NetworkType.Testnet, \n",
    "        AddressType.Base);\n",
    "    Console.WriteLine($\"Delegation Address: {baseAddr}\");\n",
    "}\n"
   ]
  },
  {
   "cell_type": "code",
   "execution_count": null,
   "metadata": {
    "dotnet_interactive": {
     "language": "csharp"
    },
    "vscode": {
     "languageId": "dotnet-interactive.csharp"
    }
   },
   "outputs": [],
   "source": []
  }
 ],
 "metadata": {
  "kernelspec": {
   "display_name": ".NET (C#)",
   "language": "C#",
   "name": ".net-csharp"
  },
  "language_info": {
   "name": "C#"
  }
 },
 "nbformat": 4,
 "nbformat_minor": 2
}
