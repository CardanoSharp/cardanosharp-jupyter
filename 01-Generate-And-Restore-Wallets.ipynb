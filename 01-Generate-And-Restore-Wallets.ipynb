{
 "cells": [
  {
   "cell_type": "code",
   "execution_count": null,
   "metadata": {
    "dotnet_interactive": {
     "language": "csharp"
    },
    "vscode": {
     "languageId": "dotnet-interactive.csharp"
    }
   },
   "outputs": [
    {
     "data": {
      "text/html": [
       "<div><div></div><div></div><div><strong>Installed Packages</strong><ul><li><span>CardanoSharp.Wallet, 2.14.0</span></li></ul></div></div>"
      ]
     },
     "metadata": {},
     "output_type": "display_data"
    }
   ],
   "source": [
    "#r \"nuget:CardanoSharp.Wallet,2.14.0\""
   ]
  },
  {
   "cell_type": "markdown",
   "metadata": {},
   "source": [
    "# Wallet Basic Overview\n",
    "\n",
    "In this section, we're going to review how to:\n",
    " - Generate a New Mnemonic\n",
    " - Restore a Mnemonic"
   ]
  },
  {
   "cell_type": "markdown",
   "metadata": {},
   "source": [
    "## Generate a New Mnemonic \n",
    "\n",
    "Lets start simple. Here were just going to generate a new mnemonic."
   ]
  },
  {
   "cell_type": "code",
   "execution_count": null,
   "metadata": {
    "dotnet_interactive": {
     "language": "csharp"
    },
    "vscode": {
     "languageId": "dotnet-interactive.csharp"
    }
   },
   "outputs": [
    {
     "name": "stdout",
     "output_type": "stream",
     "text": [
      "Words: episode around subway accuse confirm then disease stuff upgrade select barrel action priority carry silk awesome ability simple pupil frost run isolate behave fringe\r\n",
      "Entropy: 4be1876080d2efc04fc6bceeb8684b014aae45f22084003922b7aebbd4ed051a\r\n"
     ]
    }
   ],
   "source": [
    "using CardanoSharp.Wallet;\n",
    "using CardanoSharp.Wallet.Words;\n",
    "using CardanoSharp.Wallet.Enums;\n",
    "using CardanoSharp.Wallet.Extensions;\n",
    "using CardanoSharp.Wallet.Models.Keys;\n",
    "\n",
    "IMnemonicService mnemonicService = new MnemonicService();\n",
    "Mnemonic mnemonic = mnemonicService.Generate(24);\n",
    "Console.WriteLine($\"Words: {mnemonic.Words}\");\n",
    "Console.WriteLine($\"Entropy: {mnemonic.Entropy.ToStringHex()}\");"
   ]
  },
  {
   "cell_type": "markdown",
   "metadata": {},
   "source": [
    "### Word Counts\n",
    "\n",
    "In the first mnemonic example, we generated a 24 word Mnemonic. This is just 1 of 6 different lengths you can generate\n",
    "\n",
    "Word Counts Available: 9, 12, 15, 18, 21, 24"
   ]
  },
  {
   "cell_type": "code",
   "execution_count": null,
   "metadata": {
    "dotnet_interactive": {
     "language": "csharp"
    },
    "vscode": {
     "languageId": "dotnet-interactive.csharp"
    }
   },
   "outputs": [
    {
     "name": "stdout",
     "output_type": "stream",
     "text": [
      "9 Words: orange army curtain speak desert add unfair celery sing\r\n",
      "12 Words: normal aim crucial buddy tourist tenant famous collect bag treat zoo drum\r\n",
      "15 Words: opera attract enroll sibling grace setup abstract seat dynamic another elephant glory pole zero apart\r\n",
      "18 Words: luxury advice service phrase inmate weird neutral destroy fee cruel chunk era nation lottery baby raise unaware dizzy\r\n",
      "21 Words: test gloom inherit safe exit country private hard market stool popular patch switch soul subway afford hotel rhythm violin wrong soon\r\n",
      "24 Words: bag armor write female glimpse day cherry beyond meadow comfort federal acid such crop game puppy before scale census cheese win code doll oyster\r\n"
     ]
    }
   ],
   "source": [
    "Mnemonic mnemonic9 = mnemonicService.Generate(9);\n",
    "Console.WriteLine($\"9 Words: {mnemonic9.Words}\");\n",
    "\n",
    "Mnemonic mnemonic12 = mnemonicService.Generate(12);\n",
    "Console.WriteLine($\"12 Words: {mnemonic12.Words}\");\n",
    "\n",
    "Mnemonic mnemonic15 = mnemonicService.Generate(15);\n",
    "Console.WriteLine($\"15 Words: {mnemonic15.Words}\");\n",
    "\n",
    "Mnemonic mnemonic18 = mnemonicService.Generate(18);\n",
    "Console.WriteLine($\"18 Words: {mnemonic18.Words}\");\n",
    "\n",
    "Mnemonic mnemonic21 = mnemonicService.Generate(21);\n",
    "Console.WriteLine($\"21 Words: {mnemonic21.Words}\");\n",
    "\n",
    "Mnemonic mnemonic24 = mnemonicService.Generate(24);\n",
    "Console.WriteLine($\"24 Words: {mnemonic24.Words}\");"
   ]
  },
  {
   "cell_type": "markdown",
   "metadata": {},
   "source": [
    "### Languages\n",
    "\n",
    "By default, the mnemonic service will generate mnemonics using the English lanugage. You can override the language using our `WordList` enum. \n",
    "\n",
    "Here are the available lanugages: (English, ChineseSimplified, ChineseTraditional, French, Italian, Japanese, Korean, Spanish, Czech, Portuguese, German)\n",
    "\n",
    "*Please Note: German was translated in house. If an officially supported German version comes available we will add it as German2*\n"
   ]
  },
  {
   "cell_type": "code",
   "execution_count": null,
   "metadata": {
    "dotnet_interactive": {
     "language": "csharp"
    },
    "vscode": {
     "languageId": "dotnet-interactive.csharp"
    }
   },
   "outputs": [
    {
     "name": "stdout",
     "output_type": "stream",
     "text": [
      "English Words: where require game dumb office police ahead cousin detail orchard toss inject\r\n",
      "Chinese Simplified Words: 党 朝 证 拖 吉 杆 雕 厘 艰 忘 邮 吧\r\n",
      "Chinese Traditional Words: 溶 揭 富 怨 桂 黎 能 鹼 片 少 燃 株\r\n",
      "French Words: mandater poirier cravate artériel rigide cavalier coincer estrade crotale explorer menacer journal\r\n",
      "Italian Words: nanometro intasato pimpante monile bilancia spronato ocra farinoso prudente zampogna statuto pensare\r\n",
      "Japanese Words: くすりゆび ねんれい うわき ひほう はあく ないせん おじさん てんぷら いやす すもう てんけん ふじみ\r\n",
      "Korean Words: 보람 종종 의논 도착 일요일 심리 아저씨 여직원 특별 참조 산길 열매\r\n",
      "Spanish Words: huida alzar núcleo ola curso triste calor choque mapa hallar frágil cierto\r\n",
      "Czech Words: popisek gramofon krkavec borec odpustit tenor ulita setina praporek golfista svalstvo kometa\r\n",
      "Portuguese Words: bolo afluente cedilha vigente riacho reinado meteoro proibido admirar xerife feriado vitral\r\n",
      "German Words: rost korn empfang wetter sperling allianz jung kiste abseits faust urlaub enkel\r\n"
     ]
    }
   ],
   "source": [
    "Mnemonic mnemonicEnglish = mnemonicService.Generate(12, WordLists.English);\n",
    "Console.WriteLine($\"English Words: {mnemonicEnglish.Words}\");\n",
    "\n",
    "Mnemonic mnemonicChineseSimplified = mnemonicService.Generate(12, WordLists.ChineseSimplified);\n",
    "Console.WriteLine($\"Chinese Simplified Words: {mnemonicChineseSimplified.Words}\");\n",
    "\n",
    "Mnemonic mnemonicChineseTraditional = mnemonicService.Generate(12, WordLists.ChineseTraditional);\n",
    "Console.WriteLine($\"Chinese Traditional Words: {mnemonicChineseTraditional.Words}\");\n",
    "\n",
    "Mnemonic mnemonicFrench = mnemonicService.Generate(12, WordLists.French);\n",
    "Console.WriteLine($\"French Words: {mnemonicFrench.Words}\");\n",
    "\n",
    "Mnemonic mnemonicItalian = mnemonicService.Generate(12, WordLists.Italian);\n",
    "Console.WriteLine($\"Italian Words: {mnemonicItalian.Words}\");\n",
    "\n",
    "Mnemonic mnemonicJapanese = mnemonicService.Generate(12, WordLists.Japanese);\n",
    "Console.WriteLine($\"Japanese Words: {mnemonicJapanese.Words}\");\n",
    "\n",
    "Mnemonic mnemonicKorean = mnemonicService.Generate(12, WordLists.Korean);\n",
    "Console.WriteLine($\"Korean Words: {mnemonicKorean.Words}\");\n",
    "\n",
    "Mnemonic mnemonicSpanish = mnemonicService.Generate(12, WordLists.Spanish);\n",
    "Console.WriteLine($\"Spanish Words: {mnemonicSpanish.Words}\");\n",
    "\n",
    "Mnemonic mnemonicCzech = mnemonicService.Generate(12, WordLists.Czech);\n",
    "Console.WriteLine($\"Czech Words: {mnemonicCzech.Words}\");\n",
    "\n",
    "Mnemonic mnemonicPortuguese = mnemonicService.Generate(12, WordLists.Portuguese);\n",
    "Console.WriteLine($\"Portuguese Words: {mnemonicPortuguese.Words}\");\n",
    "\n",
    "Mnemonic mnemonicGerman = mnemonicService.Generate(12, WordLists.German);\n",
    "Console.WriteLine($\"German Words: {mnemonicGerman.Words}\");\n"
   ]
  },
  {
   "cell_type": "markdown",
   "metadata": {},
   "source": [
    "## Restore a Mnemonic\n",
    "\n",
    "Now that we have reviewed how to generate a new mnemonic, lets go over how to restore an existing mnemonic."
   ]
  },
  {
   "cell_type": "code",
   "execution_count": null,
   "metadata": {
    "dotnet_interactive": {
     "language": "csharp"
    },
    "vscode": {
     "languageId": "dotnet-interactive.csharp"
    }
   },
   "outputs": [
    {
     "name": "stdout",
     "output_type": "stream",
     "text": [
      "Words: episode around subway accuse confirm then disease stuff upgrade select barrel action priority carry silk awesome ability simple pupil frost run isolate behave fringe\r\n",
      "Entropy: 4be1876080d2efc04fc6bceeb8684b014aae45f22084003922b7aebbd4ed051a\r\n"
     ]
    }
   ],
   "source": [
    "Mnemonic restored = mnemonicService.Restore(\"episode around subway accuse confirm then disease stuff upgrade select barrel action priority carry silk awesome ability simple pupil frost run isolate behave fringe\");\n",
    "Console.WriteLine($\"Words: {restored.Words}\");\n",
    "Console.WriteLine($\"Entropy: {restored.Entropy.ToStringHex()}\");"
   ]
  },
  {
   "cell_type": "markdown",
   "metadata": {},
   "source": [
    "## Restoring with Different Languages\n",
    "\n",
    "Again by default, we assume the language is english, but you can restore any mnemonic from the support lanugages listed above."
   ]
  },
  {
   "cell_type": "code",
   "execution_count": null,
   "metadata": {
    "dotnet_interactive": {
     "language": "csharp"
    },
    "vscode": {
     "languageId": "dotnet-interactive.csharp"
    }
   },
   "outputs": [
    {
     "name": "stdout",
     "output_type": "stream",
     "text": [
      "English Words: where require game dumb office police ahead cousin detail orchard toss inject\r\n",
      "English Entropy: fa56e17ca1f9994f41498b3c538396ba\r\n",
      "Chinese Simplified Words: 党 朝 证 拖 吉 杆 雕 厘 艰 忘 邮 吧\r\n",
      "Chinese Simplified Entropy: 17490496d3ac34f57654f3b534dfb42f\r\n",
      "Chinese Traditional Words: 溶 揭 富 怨 桂 黎 能 鹼 片 少 燃 株\r\n",
      "Chinese Traditional Entropy: 45b211377fdbd140815caf3a836da051\r\n",
      "French Words: mandater poirier cravate artériel rigide cavalier coincer estrade crotale explorer menacer journal\r\n",
      "French Entropy: 95579ce8092d00570d52da3bac1a65c3\r\n",
      "Italian Words: nanometro intasato pimpante monile bilancia spronato ocra farinoso prudente zampogna statuto pensare\r\n",
      "Italian Entropy: 86ed5a854151cdb4a38273aa9fb3704e\r\n",
      "Japanese Words: くすりゆび ねんれい うわき ひほう はあく ないせん おじさん てんぷら いやす すもう てんけん ふじみ\r\n",
      "Japanese Entropy: 3c378065e70bf75788cd220fce4a8ce9\r\n",
      "Korean Words: 보람 종종 의논 도착 일요일 심리 아저씨 여직원 특별 참조 산길 열매\r\n",
      "Korean Entropy: 51987a8f19fac90160b470e4da1581c8\r\n",
      "Spanish Words: huida alzar núcleo ola curso triste calor choque mapa hallar frágil cierto\r\n",
      "Spanish Entropy: 6f015a73d113e7de0a018588ad417598\r\n",
      "Czech Words: popisek gramofon krkavec borec odpustit tenor ulita setina praporek golfista svalstvo kometa\r\n",
      "Czech Entropy: a105e55305b84da3f6e5e0a705db3227\r\n",
      "Portuguese Words: bolo afluente cedilha vigente riacho reinado meteoro proibido admirar xerife feriado vitral\r\n",
      "Portuguese Entropy: 276108cffdad239c678e1e06bfdd9cfe\r\n",
      "German Words: rost korn empfang wetter sperling allianz jung kiste abseits faust urlaub enkel\r\n",
      "German Entropy: bed018f27a4ce80ddcdbd802691fa09e\r\n"
     ]
    }
   ],
   "source": [
    "Mnemonic restoredEnglish = mnemonicService.Restore(\"where require game dumb office police ahead cousin detail orchard toss inject\", WordLists.English);\n",
    "Console.WriteLine($\"English Words: {mnemonicEnglish.Words}\");\n",
    "Console.WriteLine($\"English Entropy: {mnemonicEnglish.Entropy.ToStringHex()}\");\n",
    "\n",
    "Mnemonic restoredChineseSimplified = mnemonicService.Restore(\"党 朝 证 拖 吉 杆 雕 厘 艰 忘 邮 吧\", WordLists.ChineseSimplified);\n",
    "Console.WriteLine($\"Chinese Simplified Words: {restoredChineseSimplified.Words}\");\n",
    "Console.WriteLine($\"Chinese Simplified Entropy: {restoredChineseSimplified.Entropy.ToStringHex()}\");\n",
    "\n",
    "Mnemonic restoredChineseTraditional = mnemonicService.Restore(\"溶 揭 富 怨 桂 黎 能 鹼 片 少 燃 株\", WordLists.ChineseTraditional);\n",
    "Console.WriteLine($\"Chinese Traditional Words: {restoredChineseTraditional.Words}\");\n",
    "Console.WriteLine($\"Chinese Traditional Entropy: {restoredChineseTraditional.Entropy.ToStringHex()}\");\n",
    "\n",
    "Mnemonic restoredFrench = mnemonicService.Restore(\"mandater poirier cravate artériel rigide cavalier coincer estrade crotale explorer menacer journal\", WordLists.French);\n",
    "Console.WriteLine($\"French Words: {restoredFrench.Words}\");\n",
    "Console.WriteLine($\"French Entropy: {restoredFrench.Entropy.ToStringHex()}\");\n",
    "\n",
    "Mnemonic restoredItalian = mnemonicService.Restore(\"nanometro intasato pimpante monile bilancia spronato ocra farinoso prudente zampogna statuto pensare\", WordLists.Italian);\n",
    "Console.WriteLine($\"Italian Words: {restoredItalian.Words}\");\n",
    "Console.WriteLine($\"Italian Entropy: {restoredItalian.Entropy.ToStringHex()}\");\n",
    "\n",
    "Mnemonic restoredJapanese = mnemonicService.Restore(\"くすりゆび ねんれい うわき ひほう はあく ないせん おじさん てんぷら いやす すもう てんけん ふじみ\", WordLists.Japanese);\n",
    "Console.WriteLine($\"Japanese Words: {restoredJapanese.Words}\");\n",
    "Console.WriteLine($\"Japanese Entropy: {restoredJapanese.Entropy.ToStringHex()}\");\n",
    "\n",
    "Mnemonic restoredKorean = mnemonicService.Restore(\"보람 종종 의논 도착 일요일 심리 아저씨 여직원 특별 참조 산길 열매\", WordLists.Korean);\n",
    "Console.WriteLine($\"Korean Words: {restoredKorean.Words}\");\n",
    "Console.WriteLine($\"Korean Entropy: {restoredKorean.Entropy.ToStringHex()}\");\n",
    "\n",
    "Mnemonic restoredSpanish = mnemonicService.Restore(\"huida alzar núcleo ola curso triste calor choque mapa hallar frágil cierto\", WordLists.Spanish);\n",
    "Console.WriteLine($\"Spanish Words: {restoredSpanish.Words}\");\n",
    "Console.WriteLine($\"Spanish Entropy: {restoredSpanish.Entropy.ToStringHex()}\");\n",
    "\n",
    "Mnemonic restoredCzech = mnemonicService.Restore(\"popisek gramofon krkavec borec odpustit tenor ulita setina praporek golfista svalstvo kometa\", WordLists.Czech);\n",
    "Console.WriteLine($\"Czech Words: {restoredCzech.Words}\");\n",
    "Console.WriteLine($\"Czech Entropy: {restoredCzech.Entropy.ToStringHex()}\");\n",
    "\n",
    "Mnemonic restoredPortuguese = mnemonicService.Restore(\"bolo afluente cedilha vigente riacho reinado meteoro proibido admirar xerife feriado vitral\", WordLists.Portuguese);\n",
    "Console.WriteLine($\"Portuguese Words: {restoredPortuguese.Words}\");\n",
    "Console.WriteLine($\"Portuguese Entropy: {restoredPortuguese.Entropy.ToStringHex()}\");\n",
    "\n",
    "Mnemonic restoredGerman = mnemonicService.Restore(\"rost korn empfang wetter sperling allianz jung kiste abseits faust urlaub enkel\", WordLists.German);\n",
    "Console.WriteLine($\"German Words: {restoredGerman.Words}\");\n",
    "Console.WriteLine($\"German Entropy: {restoredGerman.Entropy.ToStringHex()}\");"
   ]
  }
 ],
 "metadata": {
  "kernelspec": {
   "display_name": ".NET (C#)",
   "language": "C#",
   "name": ".net-csharp"
  },
  "language_info": {
   "file_extension": ".cs",
   "mimetype": "text/x-csharp",
   "name": "C#",
   "pygments_lexer": "csharp",
   "version": "9.0"
  },
  "orig_nbformat": 4
 },
 "nbformat": 4,
 "nbformat_minor": 2
}
