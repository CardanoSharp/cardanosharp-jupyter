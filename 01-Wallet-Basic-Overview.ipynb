{
 "metadata": {
  "kernelspec": {
   "display_name": ".NET (C#)",
   "language": "C#",
   "name": ".net-csharp"
  },
  "language_info": {
   "name": "C#"
  }
 },
 "cells": [
  {
   "cell_type": "code",
   "execution_count": null,
   "source": [
    "#r \"nuget:CardanoSharp.Wallet,0.2.0\""
   ],
   "outputs": [
    {
     "output_type": "display_data",
     "data": {
      "text/html": [
       "<div><div></div><div></div><div></div></div>"
      ]
     },
     "metadata": {}
    }
   ],
   "metadata": {
    "dotnet_interactive": {
     "language": "csharp"
    }
   }
  },
  {
   "cell_type": "markdown",
   "source": [
    "# Wallet Basic Overview\r\n",
    "\r\n",
    "In this section, we're going to review how to:\r\n",
    " - Generate a New Mnemonic\r\n",
    " - Restore a Mnemonic\r\n",
    " - Get the Root Key for the Mnemonic\r\n",
    " - Derive Private and Public Keys\r\n",
    " - Generate an Address\r\n"
   ],
   "metadata": {}
  },
  {
   "cell_type": "markdown",
   "source": [
    "## Generate a New Mnemonic \r\n",
    "\r\n",
    "Lets start simple. Here were just going to generate a new mnemonic."
   ],
   "metadata": {}
  },
  {
   "cell_type": "code",
   "execution_count": null,
   "source": [
    "using CardanoSharp.Wallet.Enums;\r\n",
    "using CardanoSharp.Wallet.Models.Keys;\r\n",
    "using CardanoSharp.Wallet.Extensions;\r\n",
    "\r\n",
    "IKeyService keyService = new KeyService();\r\n",
    "Mnemonic mnemonic = keyService.Generate(24, WordLists.English);\r\n",
    "\r\n",
    "Console.WriteLine($\"Words: {mnemonic.Words}\");\r\n",
    "Console.WriteLine($\"Entropy: {mnemonic.Entropy.ToStringHex()}\");"
   ],
   "outputs": [
    {
     "output_type": "display_data",
     "data": {
      "text/plain": [
       "Words: beach smoke salute physical walnut erupt exhibit aerobic soldier confirm exile west shadow canyon travel welcome hungry dad mean tomato pyramid analyst ivory rabbit\r\n"
      ]
     },
     "metadata": {}
    },
    {
     "output_type": "display_data",
     "data": {
      "text/plain": [
       "Entropy: 13799afb51ff6c99d3e021ce85dd3efcbc4c43b9e7ca6f46de27720af0109dbd\r\n"
      ]
     },
     "metadata": {}
    }
   ],
   "metadata": {
    "dotnet_interactive": {
     "language": "csharp"
    }
   }
  },
  {
   "cell_type": "markdown",
   "source": [
    "## Restoring a Mnemonic\r\n",
    "\r\n",
    "Now that we have our mnemonic, lets pretend we are loading it into a new wallet.\r\n",
    "\r\n",
    "Here we will take our words and \"Restore\" them. This will produce the same object in the end."
   ],
   "metadata": {}
  },
  {
   "cell_type": "code",
   "execution_count": null,
   "source": [
    "Mnemonic restoredMnemonic = keyService.Restore(mnemonic.Words, WordLists.English);\r\n",
    "\r\n",
    "Console.WriteLine($\"Words are the same: {mnemonic.Words == restoredMnemonic.Words}\");\r\n",
    "Console.WriteLine($\"Entropy are the same: {mnemonic.Entropy.ToStringHex() == restoredMnemonic.Entropy.ToStringHex()}\");"
   ],
   "outputs": [
    {
     "output_type": "display_data",
     "data": {
      "text/plain": [
       "Words are the same: True\r\n"
      ]
     },
     "metadata": {}
    },
    {
     "output_type": "display_data",
     "data": {
      "text/plain": [
       "Entropy are the same: True\r\n"
      ]
     },
     "metadata": {}
    }
   ],
   "metadata": {
    "dotnet_interactive": {
     "language": "csharp"
    }
   }
  },
  {
   "cell_type": "markdown",
   "source": [
    "## Get the Root Key for the Mnemonic\r\n",
    "\r\n",
    "Generating the Root Key is the first step into our Hierarchical Deterministic(HD) Wallet. This key will let us derive any key we want and we will be able to do it over and over again... Deterministic. \r\n",
    "\r\n",
    "As users of wallets, we are used to seeing the famous Mnemonic Words, but we also see above that there is something called Entropy. Entropy is the bytes version of your words, and this is the piece that we use to generate our Root Key. So just note that what is really going on here is Words -> Entropy -> Root Key."
   ],
   "metadata": {}
  },
  {
   "cell_type": "code",
   "execution_count": null,
   "source": [
    "using CardanoSharp.Wallet.Extensions.Models;\r\n",
    "using CardanoSharp.Wallet.Encoding;\r\n",
    "\r\n",
    "PrivateKey rootKey = mnemonic.GetRootKey();\r\n",
    "string rootEncoded = Bech32.Encode(rootKey.Key, \"root_xsk\");\r\n",
    "Console.WriteLine($\"Bech32 Encoded Root Private Key: {rootEncoded}\");"
   ],
   "outputs": [
    {
     "output_type": "display_data",
     "data": {
      "text/plain": [
       "Bech32 Encoded Root Private Key: root_xsk17rd2myytctkf3eq7dyeykmt2zx7nhjw6juajv8p890dpgqj4te8c6uvuql97jdyzums00ay0wnfgt6msdw5r4j3x2pdj3wrlaf94efck6mvpn\r\n"
      ]
     },
     "metadata": {}
    }
   ],
   "metadata": {
    "dotnet_interactive": {
     "language": "csharp"
    }
   }
  },
  {
   "cell_type": "markdown",
   "source": [
    "A few points about this root key before we move on to deriving various Private and Public Keys.\r\n",
    " -  This is the root's private key, but the private key is more specifically an extended private key. This is defined in BIP 32.\r\n",
    "    -  Learn more about BIP 32: [Click Here](https://en.bitcoin.it/wiki/BIP_0032)\r\n",
    " -  When encoding, we are following the CIP 005 prefix rules. This is why we put `root_xsk`. \r\n",
    "    -  Learn more about CIP 0005: [Click Here](https://github.com/cardano-foundation/CIPs/blob/master/CIP-0005/CIP-0005.md)\r\n"
   ],
   "metadata": {}
  },
  {
   "cell_type": "markdown",
   "source": [
    "## Derive Private and Public Keys\r\n",
    "\r\n",
    "Now that we can Create/Retore Mnemonics and get a Root Key, it's time to start deriving some Private and Public keys. This where we dive into the Hierarchical piece of the HD wallet. "
   ],
   "metadata": {}
  }
 ],
 "nbformat": 4,
 "nbformat_minor": 2
}