{
 "metadata": {
  "kernelspec": {
   "display_name": ".NET (C#)",
   "language": "C#",
   "name": ".net-csharp"
  },
  "language_info": {
   "name": "C#"
  }
 },
 "cells": [
  {
   "cell_type": "code",
   "execution_count": null,
   "source": [
    "#r \"nuget:CardanoSharp.Wallet,0.2.0\""
   ],
   "outputs": [
    {
     "data": {
      "text/html": [
       "<div><div></div><div><strong>Installed Packages</strong><ul><li><span>cardanosharp.cbor, 0.1.0</span></li><li><span>cardanosharp.chaos, 0.1.0</span></li><li><span>CardanoSharp.Wallet, 0.2.0</span></li><li><span>microsoft.aspnetcore.cryptography.internal, 5.0.6</span></li><li><span>microsoft.aspnetcore.cryptography.keyderivation, 5.0.6</span></li><li><span>newtonsoft.json, 13.0.1</span></li><li><span>petero.numbers, 1.7.4</span></li><li><span>petero.uriutility, 1.0.0</span></li><li><span>saucecontrol.blake2fast, 2.0.0</span></li></ul></div><div></div></div>"
      ]
     },
     "metadata": {},
     "output_type": "display_data"
    }
   ],
   "metadata": {
    "dotnet_interactive": {
     "language": "csharp"
    }
   }
  },
  {
   "cell_type": "markdown",
   "source": [
    "# Wallet Basic Overview\r\n",
    "\r\n",
    "In this section, we're going to review how to:\r\n",
    " - Generate a New Mnemonic\r\n",
    " - Restore a Mnemonic\r\n",
    " - Get the Root Key for the Mnemonic\r\n",
    " - Derive Private and Public Keys\r\n",
    " - Generate an Address\r\n"
   ],
   "metadata": {}
  },
  {
   "cell_type": "markdown",
   "source": [
    "## Generate a New Mnemonic \r\n",
    "\r\n",
    "Lets start simple. Here were just going to generate a new mnemonic."
   ],
   "metadata": {}
  },
  {
   "cell_type": "code",
   "execution_count": null,
   "source": [
    "using CardanoSharp.Wallet;\r\n",
    "using CardanoSharp.Wallet.Enums;\r\n",
    "using CardanoSharp.Wallet.Models.Keys;\r\n",
    "using CardanoSharp.Wallet.Extensions;\r\n",
    "\r\n",
    "IKeyService keyService = new KeyService();\r\n",
    "Mnemonic mnemonic = keyService.Generate(24, WordLists.English);\r\n",
    "\r\n",
    "Console.WriteLine($\"Words: {mnemonic.Words}\");\r\n",
    "Console.WriteLine($\"Entropy: {mnemonic.Entropy.ToStringHex()}\");"
   ],
   "outputs": [
    {
     "data": {
      "text/plain": [
       "Words: blush apart receive trim color wrong ask adapt manage vintage oak earn grunt almost float jump blade argue eternal voyage trim off enhance vibrant\r\n"
      ]
     },
     "metadata": {},
     "output_type": "display_data"
    },
    {
     "data": {
      "text/plain": [
       "Entropy: 18814ace7452dbfd43501886fe865f22a6720d964bc7170171367b0e8b3292a7\r\n"
      ]
     },
     "metadata": {},
     "output_type": "display_data"
    }
   ],
   "metadata": {
    "dotnet_interactive": {
     "language": "csharp"
    }
   }
  },
  {
   "cell_type": "markdown",
   "source": [
    "## Restoring a Mnemonic\r\n",
    "\r\n",
    "Now that we have our mnemonic, lets pretend we are loading it into a new wallet.\r\n",
    "\r\n",
    "Here we will take our words and \"Restore\" them. This will produce the same object in the end."
   ],
   "metadata": {}
  },
  {
   "cell_type": "code",
   "execution_count": null,
   "source": [
    "Mnemonic restoredMnemonic = keyService.Restore(mnemonic.Words, WordLists.English);\r\n",
    "\r\n",
    "Console.WriteLine($\"Words are the same: {mnemonic.Words == restoredMnemonic.Words}\");\r\n",
    "Console.WriteLine($\"Entropy are the same: {mnemonic.Entropy.ToStringHex() == restoredMnemonic.Entropy.ToStringHex()}\");"
   ],
   "outputs": [
    {
     "data": {
      "text/plain": [
       "Words are the same: True\r\n"
      ]
     },
     "metadata": {},
     "output_type": "display_data"
    },
    {
     "data": {
      "text/plain": [
       "Entropy are the same: True\r\n"
      ]
     },
     "metadata": {},
     "output_type": "display_data"
    }
   ],
   "metadata": {
    "dotnet_interactive": {
     "language": "csharp"
    }
   }
  },
  {
   "cell_type": "markdown",
   "source": [
    "## Get the Root Key for the Mnemonic\r\n",
    "\r\n",
    "Generating the Root Key is the first step into our Hierarchical Deterministic(HD) Wallet. This key will let us derive any key we want and we will be able to do it over and over again... Deterministic. \r\n",
    "\r\n",
    "As users of wallets, we are used to seeing the famous Mnemonic Words, but we also see above that there is something called Entropy. Entropy is the bytes version of your words, and this is the piece that we use to generate our Root Key. So just note that what is really going on here is Words -> Entropy -> Root Key."
   ],
   "metadata": {}
  },
  {
   "cell_type": "code",
   "execution_count": null,
   "source": [
    "using CardanoSharp.Wallet.Extensions.Models;\r\n",
    "using CardanoSharp.Wallet.Encoding;\r\n",
    "\r\n",
    "PrivateKey rootKey = mnemonic.GetRootKey();\r\n",
    "string rootEncoded = Bech32.Encode(rootKey.Key, \"root_xsk\");\r\n",
    "Console.WriteLine($\"Bech32 Encoded Root Private Key: {rootEncoded}\");"
   ],
   "outputs": [
    {
     "data": {
      "text/plain": [
       "Bech32 Encoded Root Private Key: root_xsk1aqymn5405csd9qmr0gsd30z236punx3hjcega6dfa3f4fn0judpnel396hpnrvrdup95xy5y2l55k83ze76fsrdhtkwe07h4dpj2uhg225705\r\n"
      ]
     },
     "metadata": {},
     "output_type": "display_data"
    }
   ],
   "metadata": {
    "dotnet_interactive": {
     "language": "csharp"
    }
   }
  },
  {
   "cell_type": "markdown",
   "source": [
    "A few points about this root key before we move on to deriving various Private and Public Keys.\r\n",
    " -  This is the root's private key, but the private key is more specifically an extended private key. This is defined in BIP 32.\r\n",
    "    -  Learn more about BIP 32: [Click Here](https://en.bitcoin.it/wiki/BIP_0032)\r\n",
    " -  When encoding, we are following the CIP 005 prefix rules. This is why we put `root_xsk`. \r\n",
    "    -  Learn more about CIP 0005: [Click Here](https://github.com/cardano-foundation/CIPs/blob/master/CIP-0005/CIP-0005.md)\r\n"
   ],
   "metadata": {}
  },
  {
   "cell_type": "markdown",
   "source": [
    "## Derive Private and Public Keys\r\n",
    "\r\n",
    "Now that we can Create/Retore Mnemonics and get a Root Key, it's time to start deriving some Private and Public keys. This where we dive into the Hierarchical piece of the HD wallet. "
   ],
   "metadata": {}
  },
  {
   "cell_type": "code",
   "execution_count": null,
   "source": [
    "IAddressService addressService = new AddressService();\r\n",
    "\r\n",
    "// This path will give us our Stake Key on index 0\r\n",
    "var stakePath = $\"m/1852'/1815'/0'/2/0\";\r\n",
    "// The stakePrv is another Tuple with the Private Key and Chain Code\r\n",
    "var stakePrv = rootKey.Derive(stakePath);\r\n",
    "// Get the Public Key from the Stake Private Key\r\n",
    "var stakePub = stakePrv.GetPublicKey(false); \r\n",
    "\r\n",
    "for(var i = 0; i < 20; i++){\r\n",
    "    // This path will give us our Payment Key on index 0\r\n",
    "    string paymentPath = $\"m/1852'/1815'/0'/0/{i}\";\r\n",
    "    // The paymentPrv is another Tuple with the Private Key and Chain Code\r\n",
    "    PrivateKey paymentPrv = rootKey.Derive(paymentPath); //skey\r\n",
    "    // Get the Public Key from the Payment Private Key\r\n",
    "    PublicKey paymentPub = paymentPrv.GetPublicKey(false); //vkey\r\n",
    "\r\n",
    "    var baseAddr = addressService.GetAddress(\r\n",
    "        paymentPub, \r\n",
    "        stakePub, \r\n",
    "        NetworkType.Testnet, \r\n",
    "        AddressType.Base);\r\n",
    "    Console.WriteLine($\"Delegation Address: {baseAddr}\");\r\n",
    "}\r\n"
   ],
   "outputs": [
    {
     "data": {
      "text/plain": [
       "Delegation Address: addr_test1qq7nwxssetndd4t4z77cag8san6f9p5nxf5xajdaz3fn4tntpkvehjxmu96w84pjyzqc7ncmvessxceyhudfu5474gusugf7qr\r\n"
      ]
     },
     "metadata": {},
     "output_type": "display_data"
    },
    {
     "data": {
      "text/plain": [
       "Delegation Address: addr_test1qpwl4m2f3xcm9cansv5xk6hdvx8m2hwq4hmk49nvekn0stmtpkvehjxmu96w84pjyzqc7ncmvessxceyhudfu5474gusdj3t5w\r\n"
      ]
     },
     "metadata": {},
     "output_type": "display_data"
    },
    {
     "data": {
      "text/plain": [
       "Delegation Address: addr_test1qzlh7xy57ecg0gexa0gnscg56m364q7hs3vw3xg32avas0mtpkvehjxmu96w84pjyzqc7ncmvessxceyhudfu5474gus5mtxr8\r\n"
      ]
     },
     "metadata": {},
     "output_type": "display_data"
    },
    {
     "data": {
      "text/plain": [
       "Delegation Address: addr_test1qplhj3tfsw0syye99lrrctym9gzwnx6e473gexvuf5p4qartpkvehjxmu96w84pjyzqc7ncmvessxceyhudfu5474gusj779v5\r\n"
      ]
     },
     "metadata": {},
     "output_type": "display_data"
    },
    {
     "data": {
      "text/plain": [
       "Delegation Address: addr_test1qpgyv8y0wrxan9w57t9agvlhuw00aee7qqmk7hl6zh98jzntpkvehjxmu96w84pjyzqc7ncmvessxceyhudfu5474gusps0q2y\r\n"
      ]
     },
     "metadata": {},
     "output_type": "display_data"
    },
    {
     "data": {
      "text/plain": [
       "Delegation Address: addr_test1qpjfnz05dd5f0afx85tzz4awccxletzfcu9wuvl4wyjvnyttpkvehjxmu96w84pjyzqc7ncmvessxceyhudfu5474gus2ray8m\r\n"
      ]
     },
     "metadata": {},
     "output_type": "display_data"
    },
    {
     "data": {
      "text/plain": [
       "Delegation Address: addr_test1qqgxw2e047lc8daym4f9nfeh0j5zlj0gavpx6f5h0n334kttpkvehjxmu96w84pjyzqc7ncmvessxceyhudfu5474gusalvart\r\n"
      ]
     },
     "metadata": {},
     "output_type": "display_data"
    },
    {
     "data": {
      "text/plain": [
       "Delegation Address: addr_test1qq8cal0g7vvyc0kwf3zvuft6ff8qvwj52cnqjwagwkmr4xmtpkvehjxmu96w84pjyzqc7ncmvessxceyhudfu5474gus69fjhw\r\n"
      ]
     },
     "metadata": {},
     "output_type": "display_data"
    },
    {
     "data": {
      "text/plain": [
       "Delegation Address: addr_test1qr83d062r2jgvw47d32cg3mc26w3rmmel35uh58hmxz5r6mtpkvehjxmu96w84pjyzqc7ncmvessxceyhudfu5474gus9frazt\r\n"
      ]
     },
     "metadata": {},
     "output_type": "display_data"
    },
    {
     "data": {
      "text/plain": [
       "Delegation Address: addr_test1qzjpxk3w3chsuvm82dm5nla2ja82m8jaud274zj4dyeft6ntpkvehjxmu96w84pjyzqc7ncmvessxceyhudfu5474gus0reucx\r\n"
      ]
     },
     "metadata": {},
     "output_type": "display_data"
    },
    {
     "data": {
      "text/plain": [
       "Delegation Address: addr_test1qzt0zhzl4d4cgfesggk5y0rw456rtg43kgxnqgn4jmz4d4ttpkvehjxmu96w84pjyzqc7ncmvessxceyhudfu5474gusc2ehyv\r\n"
      ]
     },
     "metadata": {},
     "output_type": "display_data"
    },
    {
     "data": {
      "text/plain": [
       "Delegation Address: addr_test1qz6v6ccy8zthwv9xptqqfcmda39sv3ac2vk3xjw5rpnxwprtpkvehjxmu96w84pjyzqc7ncmvessxceyhudfu5474gus5t7ttr\r\n"
      ]
     },
     "metadata": {},
     "output_type": "display_data"
    },
    {
     "data": {
      "text/plain": [
       "Delegation Address: addr_test1qps7lsrx76vr00yj290kd7xalmlnvfkt20ynp2vhdkmzsantpkvehjxmu96w84pjyzqc7ncmvessxceyhudfu5474gusk0r420\r\n"
      ]
     },
     "metadata": {},
     "output_type": "display_data"
    },
    {
     "data": {
      "text/plain": [
       "Delegation Address: addr_test1qzmljmjffh4uwfaj2nwknkt4sksr7eshqfjt26qj5fkg5jmtpkvehjxmu96w84pjyzqc7ncmvessxceyhudfu5474gusmt66y7\r\n"
      ]
     },
     "metadata": {},
     "output_type": "display_data"
    },
    {
     "data": {
      "text/plain": [
       "Delegation Address: addr_test1qz2ja03eg7wy3vm3qczxj5hxh9ktxdjahazwul9k483m79ntpkvehjxmu96w84pjyzqc7ncmvessxceyhudfu5474gus8744mz\r\n"
      ]
     },
     "metadata": {},
     "output_type": "display_data"
    },
    {
     "data": {
      "text/plain": [
       "Delegation Address: addr_test1qzgr45myc6qqujt2yvvqgauc0f0wt0q9und0mk0yaup2qfntpkvehjxmu96w84pjyzqc7ncmvessxceyhudfu5474gusypvfsz\r\n"
      ]
     },
     "metadata": {},
     "output_type": "display_data"
    },
    {
     "data": {
      "text/plain": [
       "Delegation Address: addr_test1qrvqw58x4p236nw6n7jcs82u6ysj5j2q4ym2m85he5g5y6mtpkvehjxmu96w84pjyzqc7ncmvessxceyhudfu5474gusex2neu\r\n"
      ]
     },
     "metadata": {},
     "output_type": "display_data"
    },
    {
     "data": {
      "text/plain": [
       "Delegation Address: addr_test1qzrq959mmspy8v7wgkucgyz8hxcjkwzwm0h2gpdw3rdzlkrtpkvehjxmu96w84pjyzqc7ncmvessxceyhudfu5474gusvc5rkv\r\n"
      ]
     },
     "metadata": {},
     "output_type": "display_data"
    },
    {
     "data": {
      "text/plain": [
       "Delegation Address: addr_test1qqu26yt2r9gcrh3xnng9jjwhgqzcx8nd0hre3d8rp07ezzmtpkvehjxmu96w84pjyzqc7ncmvessxceyhudfu5474gusm0djdz\r\n"
      ]
     },
     "metadata": {},
     "output_type": "display_data"
    },
    {
     "data": {
      "text/plain": [
       "Delegation Address: addr_test1qz72dc9aauc94ygjkezucr7t598sg2grhelujgct3365j0mtpkvehjxmu96w84pjyzqc7ncmvessxceyhudfu5474gus029dp8\r\n"
      ]
     },
     "metadata": {},
     "output_type": "display_data"
    }
   ],
   "metadata": {
    "dotnet_interactive": {
     "language": "csharp"
    }
   }
  },
  {
   "cell_type": "code",
   "execution_count": null,
   "source": [],
   "outputs": [],
   "metadata": {
    "dotnet_interactive": {
     "language": "csharp"
    }
   }
  }
 ],
 "nbformat": 4,
 "nbformat_minor": 2
}