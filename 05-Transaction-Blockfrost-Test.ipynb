{
 "metadata": {
  "kernelspec": {
   "display_name": ".NET (C#)",
   "language": "C#",
   "name": ".net-csharp"
  },
  "language_info": {
   "name": "C#"
  }
 },
 "cells": [
  {
   "cell_type": "code",
   "execution_count": null,
   "source": [
    "#r \"nuget:Blockfrost.Api,0.0.5-alpha\""
   ],
   "outputs": [
    {
     "data": {
      "text/html": [
       "<div><div></div><div></div><div><strong>Installed Packages</strong><ul><li><span>Blockfrost.Api, 0.0.5-alpha</span></li></ul></div></div>"
      ]
     },
     "metadata": {},
     "output_type": "display_data"
    }
   ],
   "metadata": {
    "dotnet_interactive": {
     "language": "csharp"
    }
   }
  },
  {
   "cell_type": "markdown",
   "source": [
    "# blockfrost-dotnet\r\n",
    "\r\n",
    "## Usage\r\n",
    "\r\n",
    "Using the SDK is pretty straight-forward as you can see from the following example."
   ],
   "metadata": {}
  },
  {
   "cell_type": "code",
   "execution_count": null,
   "source": [
    "using System.IO;\r\n",
    "using Blockfrost.Api;\r\n",
    "using Blockfrost.Api.Extensions;\r\n",
    "using Microsoft.Extensions.DependencyInjection;\r\n",
    "using System.Text.Json;\r\n",
    "\r\n",
    "\r\n",
    "var apiKey = \"YOUR_BLOCKFROST_PROJECT_ID\";\r\n",
    "var network = \"NETWORK_OF_THE_PROJECT_ID\"; \r\n",
    "var sender_address = \"SENDER_ADDR\";\r\n",
    "var receiver_address = \"RECEIVER_ADDR\";\r\n",
    "var signedTx = File.ReadAllText(\"path/to/your/signed/transaction\");\r\n",
    "\r\n",
    "var provider = new ServiceCollection().AddBlockfrost(network, apiKey).BuildServiceProvider();\r\n",
    "\r\n",
    "var blockService = provider.GetRequiredService<IBlockService>();\r\n",
    "var addressService = provider.GetRequiredService<IAddressService>();\r\n",
    "var transactionService = provider.GetRequiredService<ITransactionService>();\r\n",
    "\r\n",
    "((ABlockfrostService)transactionService).ReadResponseAsString = true;\r\n",
    "\r\n",
    "int total = 0;\r\n",
    "int? slot = 0;\r\n",
    "\r\n",
    "Console.WriteLine($\"Summing UTxO Amounts for {sender_address}...\");\r\n",
    "var utxoSender = await addressService.UtxosAllAsync(sender_address,100,0,ESortOrder.Asc).ConfigureAwait(false);\r\n",
    "int totalSender = utxoSender.Sum(m => m.Amount.Sum(a => int.Parse(a.Quantity)));\r\n",
    "System.Console.WriteLine($\"Sender Total: {totalSender} lovelace\");\r\n",
    "\r\n",
    "Console.WriteLine($\"Summing UTxO Amounts for {receiver_address}...\");\r\n",
    "var utxoReceiver = await addressService.UtxosAllAsync(receiver_address,100,0,ESortOrder.Asc).ConfigureAwait(false);\r\n",
    "int totalReceiver = utxoReceiver.Sum(m => m.Amount.Sum(a => int.Parse(a.Quantity)));\r\n",
    "System.Console.WriteLine($\"Receiver Total: {totalReceiver} lovelace\");\r\n",
    "\r\n",
    "var tip = await blockService.GetLatestBlockAsync();\r\n",
    "slot = tip.Slot;\r\n",
    "\r\n",
    "Console.WriteLine($\"Tip now at Epoch {tip.Epoch} Slot {tip.Slot} Block {tip.Height}\");\r\n",
    "await Task.Delay(TimeSpan.FromSeconds(1));\r\n",
    "\r\n",
    "Console.WriteLine(\"Sending transaction in 3... 2... 1...\");\r\n",
    "await Task.Delay(TimeSpan.FromSeconds(3));\r\n",
    "\r\n",
    "Console.WriteLine(signedTx);\r\n",
    "var txid = await transactionService.SubmitAsync(signedTx);\r\n",
    "\r\n",
    "Console.WriteLine($\"\");\r\n",
    "Console.WriteLine($\"************************************************************************************************************************\");\r\n",
    "Console.WriteLine($\"                              Your Transaction was transmitted to the {network}\");\r\n",
    "Console.WriteLine($\" You can wait for it on the {network} explorer: https://explorer.cardano-{network}.iohkdev.io/en/transaction?id={txid}\");\r\n",
    "Console.WriteLine($\"                    Or wait here and hope your transaction makes it into the next block...\");\r\n",
    "Console.WriteLine($\"\");\r\n",
    "Console.WriteLine($\"      If traffic on the {network} is slow, it can take some time until the next block is ready... Try to be patient.\");\r\n",
    "Console.WriteLine($\"************************************************************************************************************************\");\r\n",
    "\r\n",
    "while(slot == tip.Slot)\r\n",
    "{\r\n",
    "    Console.WriteLine(\"Waiting for next block...\");\r\n",
    "    await Task.Delay(TimeSpan.FromSeconds(3));\r\n",
    "    tip = await blockService.GetLatestBlockAsync();\r\n",
    "}\r\n",
    "\r\n",
    "Console.WriteLine($\"Tip now at Epoch {tip.Epoch} Slot {tip.Slot} Block {tip.Height}\");\r\n",
    "totalSender = utxoSender.Sum(m => m.Amount.Sum(a => int.Parse(a.Quantity)));\r\n",
    "System.Console.WriteLine($\"Sender Total: {totalSender} lovelace\");\r\n",
    "\r\n",
    "totalReceiver = utxoReceiver.Sum(m => m.Amount.Sum(a => int.Parse(a.Quantity)));\r\n",
    "System.Console.WriteLine($\"Receiver Total: {totalReceiver} lovelace\");\r\n",
    "\r\n",
    "Console.WriteLine($\"Have a very lovelacey day...\");\r\n",
    "                    \r\n"
   ],
   "outputs": [
    {
     "output_type": "stream",
     "name": "stdout",
     "text": [
      "Summing UTxO Amounts for addr_test1vrgvgwfx4xyu3r2sf8nphh4l92y84jsslg5yhyr8xul29rczf3alu...\r\n",
      "Sender Total: 988258310 lovelace\r\n",
      "Summing UTxO Amounts for addr_test1vqah2xrfp8qjp2tldu8wdq38q8c8tegnduae5zrqff3aeec7g467q...\r\n",
      "Receiver Total: 10000000 lovelace\r\n",
      "Querying tip...\r\n",
      "Tip now at Epoch 152 Slot 35399692 Block 2855047\r\n",
      "Sending transaction in...\r\n",
      "3...\r\n",
      "2...\r\n",
      "1...\r\n",
      "{\n",
      "    \"type\": \"Tx MaryEra\",\n",
      "    \"description\": \"\",\n",
      "    \"cborHex\": \"83a3008182582002ffae36f91deee20a784e48ef60d604c20c983d84eb4cccbcbb19e6a315f20900018282581d60d0c43926a989c88d5049e61bdebf2a887aca10fa284b9067373ea28f1a3ad5b56d82581d603b75186909c120a97f6f0ee6822701f075e5136f3b9a08604a63dce71a000f4240021a0002a859a100818258200bc7720123b3fd7bc8c0573bbd7df6577cef1a3385ab79959d1319d373f5ebe15840620fa1206cf5634fba738ca1ea76c8b25018cd3755af8c67e7f9c219aaa07ac7a68133e97e68209e08fd4eaa44076ce602b6af1f8c14003ce7b54b487197c40df6\"\n",
      "}\n",
      "\r\n",
      "\r\n",
      "****\r\n",
      "Your Transaction was transmitted to the testnet\r\n",
      "\r\n",
      "You can wait for it on the testnet explorer: https://explorer.cardano-testnet.iohkdev.io/en/transaction?id=2b1ca81b94c5dd737fe939444264046c6fbbe96ff403e49ee99e8022b0e512bb\r\n",
      "\r\n",
      "Or wait here and hope your transaction makes it into the next block...\r\n",
      "\r\n",
      "If traffic on the testnet is slow, it can take some time until the next block is ready... Try to be patient.\r\n",
      "****\r\n",
      "\r\n",
      "Waiting for next block...\r\n",
      "Tip now at Epoch 152 Slot 35399711 Block 2855048\r\n",
      "Sender Total: 988258310 lovelace\r\n",
      "Receiver Total: 10000000 lovelace\r\n",
      "\r\n",
      "Have a very lovelacey day...\r\n"
     ]
    }
   ],
   "metadata": {
    "dotnet_interactive": {
     "language": "csharp"
    }
   }
  }
 ],
 "nbformat": 4,
 "nbformat_minor": 2
}