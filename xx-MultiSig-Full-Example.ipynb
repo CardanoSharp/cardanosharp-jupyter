{
 "cells": [
  {
   "cell_type": "code",
   "execution_count": 1,
   "metadata": {
    "dotnet_interactive": {
     "language": "csharp"
    },
    "vscode": {
     "languageId": "dotnet-interactive.csharp"
    }
   },
   "outputs": [
    {
     "data": {
      "text/html": [
       "<div><div></div><div></div><div><strong>Installed Packages</strong><ul><li><span>CardanoSharp.Koios.Client, 1.0.8</span></li><li><span>CardanoSharp.Wallet, 2.14.0</span></li><li><span>Refit, 6.3.2</span></li></ul></div></div>"
      ]
     },
     "metadata": {},
     "output_type": "display_data"
    }
   ],
   "source": [
    "#r \"nuget:CardanoSharp.Wallet,2.14.0\"\n",
    "#r \"nuget:CardanoSharp.Koios.Client,1.0.8\"\n",
    "#r \"nuget:Refit,6.3.2\""
   ]
  },
  {
   "cell_type": "markdown",
   "metadata": {},
   "source": [
    "## Summary\n",
    "\n",
    "We are going to create 2 separate wallets. Then we will take both wallets' Zero Index Payment Public Key and combine to create a MultiSig/NativeScript address. We will use the `ALL` Policy requiring both wallets to sign transactions for the MultiSig Wallet."
   ]
  },
  {
   "cell_type": "markdown",
   "metadata": {},
   "source": [
    "### Step 1: Create Wallets"
   ]
  },
  {
   "cell_type": "code",
   "execution_count": 2,
   "metadata": {
    "dotnet_interactive": {
     "language": "csharp"
    },
    "vscode": {
     "languageId": "dotnet-interactive.csharp"
    }
   },
   "outputs": [],
   "source": [
    "using CardanoSharp.Wallet;\n",
    "using CardanoSharp.Wallet.Enums;\n",
    "using CardanoSharp.Wallet.Extensions.Models;\n",
    "using CardanoSharp.Wallet.Models.Addresses;\n",
    "using CardanoSharp.Wallet.Models.Keys;\n",
    "using CardanoSharp.Wallet.Models.Derivations;\n",
    "\n",
    "//Wallet 1\n",
    "Mnemonic mnemonic1 = new MnemonicService().Restore(\"scale fiction sadness render fun system hunt skull awake neither quick uncle grab grid credit\");\n",
    "//Derive Payment Public Key\n",
    "IIndexNodeDerivation paymentNode1 = mnemonic1.GetMasterNode()\n",
    "    .Derive(PurposeType.MultiSig)\n",
    "    .Derive(CoinType.Ada)\n",
    "    .Derive(0)\n",
    "    .Derive(RoleType.ExternalChain)\n",
    "    .Derive(0);\n",
    "paymentNode1.SetPublicKey();\n",
    "//Derive Stake Public Key\n",
    "IIndexNodeDerivation stakeNode1 = mnemonic1.GetMasterNode()\n",
    "    .Derive(PurposeType.MultiSig)\n",
    "    .Derive(CoinType.Ada)\n",
    "    .Derive(0)\n",
    "    .Derive(RoleType.Staking)\n",
    "    .Derive(0);\n",
    "stakeNode1.SetPublicKey();\n",
    "\n",
    "//Wallet 2\n",
    "Mnemonic mnemonic2 = new MnemonicService().Restore(\"harsh absorb lazy resist elephant social carry roof remember picture merry enlist regret major practice\");\n",
    "//Derive Payment Public Key\n",
    "IIndexNodeDerivation paymentNode2 = mnemonic2.GetMasterNode()\n",
    "    .Derive(PurposeType.MultiSig)\n",
    "    .Derive(CoinType.Ada)\n",
    "    .Derive(0)\n",
    "    .Derive(RoleType.ExternalChain)\n",
    "    .Derive(0);\n",
    "paymentNode2.SetPublicKey();\n",
    "//Derive Stake Public Key\n",
    "var stakeNode2 = mnemonic2.GetMasterNode()\n",
    "    .Derive(PurposeType.MultiSig)\n",
    "    .Derive(CoinType.Ada)\n",
    "    .Derive(0)\n",
    "    .Derive(RoleType.Staking)\n",
    "    .Derive(0);\n",
    "stakeNode2.SetPublicKey();\n",
    "\n",
    "//Important Values\n",
    "PublicKey paymentPub1 = paymentNode1.PublicKey;\n",
    "PublicKey stakePub1 = stakeNode1.PublicKey;\n",
    "PublicKey paymentPub2 = paymentNode2.PublicKey;\n",
    "PublicKey stakePub2 = stakeNode2.PublicKey;"
   ]
  },
  {
   "cell_type": "markdown",
   "metadata": {},
   "source": [
    "### Step 2: Create Policy Script for MultiSig\n",
    "\n",
    "If you've minting assets before, this will look familiar."
   ]
  },
  {
   "cell_type": "code",
   "execution_count": 3,
   "metadata": {
    "dotnet_interactive": {
     "language": "csharp"
    },
    "vscode": {
     "languageId": "dotnet-interactive.csharp"
    }
   },
   "outputs": [],
   "source": [
    "using CardanoSharp.Wallet.Utilities;\n",
    "using CardanoSharp.Wallet.TransactionBuilding;\n",
    "using CardanoSharp.Wallet.Models.Transactions.Scripts;\n",
    "using CardanoSharp.Wallet.Extensions;\n",
    "\n",
    "// Generate payment hashes\n",
    "byte[] paymentHash1 = HashUtility.Blake2b224(paymentPub1.Key);\n",
    "byte[] paymentHash2 = HashUtility.Blake2b224(paymentPub2.Key);\n",
    "\n",
    "// Create a Payment Policy Script with a type of Script Any\n",
    "IScriptAllBuilder paymentPolicyScriptBuilder = ScriptAllBuilder.Create\n",
    "    .SetScript(NativeScriptBuilder.Create.SetKeyHash(paymentHash1))\n",
    "    .SetScript(NativeScriptBuilder.Create.SetKeyHash(paymentHash2));\n",
    "\n",
    "ScriptAll paymentPolicyScript = paymentPolicyScriptBuilder.Build();\n",
    "byte[] paymentPolicyId = paymentPolicyScript.GetPolicyId();\n",
    "\n",
    "// Generate stake hashes\n",
    "byte[] stakeHash1 = HashUtility.Blake2b224(stakePub1.Key);\n",
    "byte[] stakeHash2 = HashUtility.Blake2b224(stakePub2.Key);\n",
    "\n",
    "// Create a Stake Policy Script with a type of Script Any\n",
    "IScriptAllBuilder stakePolicyScriptBuilder = ScriptAllBuilder.Create\n",
    "    .SetScript(NativeScriptBuilder.Create.SetKeyHash(stakeHash1))\n",
    "    .SetScript(NativeScriptBuilder.Create.SetKeyHash(stakeHash2));\n",
    "\n",
    "ScriptAll stakePolicyScript = stakePolicyScriptBuilder.Build();\n",
    "byte[] statkePolicyId = stakePolicyScript.GetPolicyId();\n",
    "\n",
    "// template if we want to verify our Native Script \n",
    "// {\n",
    "//     \"type\": \"all\",\n",
    "//     \"scripts\": [\n",
    "//         {\n",
    "//             \"type\": \"sig\",\n",
    "//             \"keyHash\": \"\"\n",
    "//         },\n",
    "//         {\n",
    "//             \"type\": \"sig\",\n",
    "//             \"keyHash\": \"\"\n",
    "//         }\n",
    "//     ]\n",
    "// }"
   ]
  },
  {
   "cell_type": "markdown",
   "metadata": {},
   "source": [
    "### Step 3: Create MultiSig Address\n",
    "\n",
    "Take the address and send some test ADA to it. Network is up to you."
   ]
  },
  {
   "cell_type": "code",
   "execution_count": 4,
   "metadata": {
    "dotnet_interactive": {
     "language": "csharp"
    },
    "vscode": {
     "languageId": "dotnet-interactive.csharp"
    }
   },
   "outputs": [
    {
     "name": "stdout",
     "output_type": "stream",
     "text": [
      "addr_test1xqg0c32s2a9wyxt9ljz88raatvks9r0yejxztvd535lykg8f6xl537h7rscchceanuzl5vt3xlkp6pp69pl7qsaez49qgxvj5g\r\n"
     ]
    }
   ],
   "source": [
    "using CardanoSharp.Wallet.Models;\n",
    "using CardanoSharp.Wallet;\n",
    "\n",
    "var multiSigAddress = new AddressService().GetBaseScriptAddress(paymentPolicyScript, stakePolicyScript, NetworkType.Testnet);\n",
    "Console.WriteLine(multiSigAddress);"
   ]
  },
  {
   "cell_type": "markdown",
   "metadata": {},
   "source": [
    "### Step 4: Check Balance\n",
    "\n",
    "I added an address that isn't derived from a policy so we can see the distinction."
   ]
  },
  {
   "cell_type": "code",
   "execution_count": 8,
   "metadata": {
    "dotnet_interactive": {
     "language": "csharp"
    },
    "vscode": {
     "languageId": "dotnet-interactive.csharp"
    }
   },
   "outputs": [
    {
     "name": "stdout",
     "output_type": "stream",
     "text": [
      "Address: addr_test1qzx9hu8j4ah3auytk0mwcupd69hpc52t0cw39a65ndrah86djs784u92a3m5w475w3w35tyd6v3qumkze80j8a6h5tuqq5xe8y\r\n",
      "Balance: 396602216, Is Script?: False\r\n",
      "\r\n",
      "Address: addr_test1xqg0c32s2a9wyxt9ljz88raatvks9r0yejxztvd535lykg8f6xl537h7rscchceanuzl5vt3xlkp6pp69pl7qsaez49qgxvj5g\r\n",
      "Balance: 19824379, Is Script?: True\r\n",
      "\r\n"
     ]
    }
   ],
   "source": [
    "using CardanoSharp.Koios.Client;\n",
    "using CardanoSharp.Wallet.CIPs.CIP2;\n",
    "using CardanoSharp.Wallet.CIPs.CIP2.Models;\n",
    "using CardanoSharp.Wallet.Models.Transactions;\n",
    "using CardanoSharp.Wallet.Extensions;\n",
    "using CardanoSharp.Wallet.Extensions.Models.Transactions;\n",
    "using CardanoSharpAsset = CardanoSharp.Wallet.Models.Asset;\n",
    "using Refit;\n",
    "\n",
    "var addressClient = RestService.For<IAddressClient>(\"https://testnet.koios.rest/api/v0\");\n",
    "\n",
    "var addressBulkRequest = new AddressBulkRequest { Addresses = new List<string> { multiSigAddress.ToString(), \"addr_test1qzx9hu8j4ah3auytk0mwcupd69hpc52t0cw39a65ndrah86djs784u92a3m5w475w3w35tyd6v3qumkze80j8a6h5tuqq5xe8y\" } };\n",
    "var addressInformation = addressClient.GetAddressInformation(addressBulkRequest).Result;\n",
    "foreach (var ai in addressInformation.Content)\n",
    "{\n",
    "    Console.WriteLine($\"Address: {ai.Address}\");\n",
    "    Console.WriteLine($\"Balance: {ai.Balance}, Is Script?: {ai.ScriptAddress}\");\n",
    "    Console.WriteLine(\"\");\n",
    "}\n",
    "\n",
    "//Helper Functions\n",
    "public async Task<List<Utxo>> GetUtxos(string address)\n",
    "{\n",
    "    try\n",
    "    {\n",
    "        var addressBulkRequest = new AddressBulkRequest { Addresses = new List<string> { address } };\n",
    "        var addressResponse = (await addressClient.GetAddressInformation(addressBulkRequest));\n",
    "        var addressInfo = addressResponse.Content;\n",
    "        var utxos = new List<Utxo>();\n",
    "\n",
    "        foreach (var ai in addressInfo.SelectMany(x => x.UtxoSets))\n",
    "        {\n",
    "            if(ai is null) continue;\n",
    "            var utxo = new Utxo()\n",
    "            {\n",
    "                TxIndex = ai.TxIndex,\n",
    "                TxHash = ai.TxHash,\n",
    "                Balance = new Balance()\n",
    "                {\n",
    "                    Lovelaces = ulong.Parse(ai.Value)\n",
    "                }\n",
    "            };\n",
    "\n",
    "            var assetList = new List<CardanoSharpAsset>();\n",
    "            foreach (var aa in ai.AssetList)\n",
    "            {\n",
    "                assetList.Add(new CardanoSharpAsset()\n",
    "                {\n",
    "                    Name = aa.AssetName,\n",
    "                    PolicyId = aa.PolicyId,\n",
    "                    Quantity = ulong.Parse(aa.Quantity)\n",
    "                });\n",
    "            }\n",
    "\n",
    "            utxo.Balance.Assets = assetList;\n",
    "            utxos.Add(utxo);\n",
    "        }\n",
    "\n",
    "        return utxos;\n",
    "    }\n",
    "    catch (Exception ex)\n",
    "    {\n",
    "        Console.WriteLine(ex.Message);\n",
    "        return null;\n",
    "    }\n",
    "}\n",
    "\n",
    "private void AddInputsFromCoinSelection(CoinSelection coinSelection, ITransactionBodyBuilder transactionBody)\n",
    "{\n",
    "    foreach (var i in coinSelection.Inputs)\n",
    "    {\n",
    "        transactionBody.AddInput(i.TransactionId, i.TransactionIndex);\n",
    "    }\n",
    "}\n",
    "\n",
    "private void AddChangeOutputs(ITransactionBodyBuilder ttb, List<TransactionOutput> outputs, string address)\n",
    "{\n",
    "    foreach (var output in outputs)\n",
    "    {\n",
    "        ITokenBundleBuilder? assetList = null;\n",
    "\n",
    "        if (output.Value.MultiAsset is not null)\n",
    "        {\n",
    "            assetList = TokenBundleBuilder.Create;\n",
    "            foreach (var ma in output.Value.MultiAsset)\n",
    "            {\n",
    "                foreach (var na in ma.Value.Token)\n",
    "                {\n",
    "                    assetList.AddToken(ma.Key, na.Key, na.Value);\n",
    "                }\n",
    "            }\n",
    "        }\n",
    "\n",
    "        ttb.AddOutput(new Address(address), output.Value.Coin, assetList);\n",
    "    }\n",
    "}"
   ]
  },
  {
   "cell_type": "markdown",
   "metadata": {},
   "source": [
    "### Step 5: Build Transaction to Send from MultiSig Address"
   ]
  },
  {
   "cell_type": "code",
   "execution_count": 18,
   "metadata": {
    "dotnet_interactive": {
     "language": "csharp"
    },
    "vscode": {
     "languageId": "dotnet-interactive.csharp"
    }
   },
   "outputs": [
    {
     "name": "stdout",
     "output_type": "stream",
     "text": [
      "84a4008182582046fe9439b620443c5fa3cae06c005ab1d463aa4f7782428eef8daf7842196cba01018282583900adff8c9f1591cd22fafafbc66426804f7fc7ae95c4f53ce05678abd8a83ad8a8b7cf4dcb5cddb57adf971c4b5a8434630b52d7dffa5b966f1a004c4b408258393010fc4550574ae21965fc84738fbd5b2d028de4cc8c25b1b48d3e4b20e9d1bf48fafe1c318be33d9f05fa317137ec1d043a287fe043b9154a1a00df85b6021a0002ae05031a044723c3a20082825820966d876075002a9f80b64037c12c9c5260f39024d86c29c667fa148923a0a52a584041c9f200223bd11587d51bd4f2da45e1b9bd1ce956131faf95fd20f4b0e55a947e6edd8202ef0057d02fa313c79934b8b5259e7efd6bbc2d9b1b816decd8e70e82582080bb781421b521a5c0e99042f2b05d8ea5c876d8e3f700de00b6fe8cd7cff87b5840af41dd58bd320b0719446fe6ae87a2b3a1415e0b040662419490082e5148bb3a2d787371610b7e7d8e880587a63420f6835408786d2e2c152bf473576852530501818201828200581ccf66e4dfee27510a5263d60bbb7e371be1133ea365b8c578b3098c2e8200581c0b93a74a952be650d58ced2283e045465dc4f3881077ebb647b2c79cf5f6\r\n"
     ]
    }
   ],
   "source": [
    "using System.IO;\n",
    "using Newtonsoft.Json;\n",
    "using CardanoSharp.Wallet.CIPs.CIP2;\n",
    "using CardanoSharp.Wallet.CIPs.CIP2.Models;\n",
    "using CardanoSharp.Wallet.Models.Transactions;\n",
    "using CardanoSharp.Wallet.Extensions;\n",
    "using CardanoSharp.Wallet.Extensions.Models.Transactions;\n",
    "using CardanoSharpAsset = CardanoSharp.Wallet.Models.Asset;\n",
    "using CardanoSharp.Koios.Client;\n",
    "using Refit;\n",
    "\n",
    "//setup koios clients\n",
    "var addressClient = RestService.For<IAddressClient>(\"https://testnet.koios.rest/api/v0\");\n",
    "var networkClient = RestService.For<INetworkClient>(\"https://testnet.koios.rest/api/v0\");\n",
    "var epochClient = RestService.For<IEpochClient>(\"https://testnet.koios.rest/api/v0\");\n",
    "\n",
    "//1. Get UTxOs\n",
    "var utxos = await GetUtxos(multiSigAddress.ToString());\n",
    "\n",
    "///2. Create the Body\n",
    "var transactionBody = TransactionBodyBuilder.Create;\n",
    "\n",
    "//set outputs\n",
    "transactionBody.AddOutput(\"addr_test1qzkllrylzkgu6gh6ltauvepxsp8hl3awjhz0208q2eu2hk9g8tv23d70fh94ehd40t0ew8ztt2zrgcct2ttal7jmjehsfe79m2\".ToAddress().GetBytes(), 5000000);\n",
    "\n",
    "//perform coin selection\n",
    "var coinSelection = ((TransactionBodyBuilder)transactionBody).UseLargestFirstWithImprove(utxos);\n",
    "\n",
    "//add the inputs from coin selection to transaction body builder\n",
    "AddInputsFromCoinSelection(coinSelection, transactionBody);\n",
    "\n",
    "//if we have change from coin selection, add to outputs\n",
    "if (coinSelection.ChangeOutputs is not null && coinSelection.ChangeOutputs.Any())\n",
    "{\n",
    "    AddChangeOutputs(transactionBody, coinSelection.ChangeOutputs, multiSigAddress.ToString());\n",
    "}\n",
    "\n",
    "//get protocol parameters and set default fee\n",
    "var epochResponse = await epochClient.GetEpochInformation();\n",
    "var ppResponse = await epochClient.GetProtocolParameters();\n",
    "var protocolParameters = ppResponse.Content.FirstOrDefault();\n",
    "transactionBody.SetFee(protocolParameters.MinFeeB.Value);\n",
    "\n",
    "//get network tip and set ttl\n",
    "var blockSummaries = (await networkClient.GetChainTip()).Content;\n",
    "var ttl = 2500 + (uint)blockSummaries.First().AbsSlot;\n",
    "transactionBody.SetTtl(ttl);\n",
    "\n",
    "///3. Add Witnesses\n",
    "var witnessSet = TransactionWitnessSetBuilder.Create;\n",
    "witnessSet.SetScriptAllNativeScript(paymentPolicyScriptBuilder);\n",
    "witnessSet.AddVKeyWitness(paymentNode1.PublicKey, paymentNode1.PrivateKey);\n",
    "witnessSet.AddVKeyWitness(paymentNode2.PublicKey, paymentNode2.PrivateKey);\n",
    "\n",
    "///4. Build Draft TX\n",
    "//create transaction builder and add the pieces\n",
    "var transaction = TransactionBuilder.Create;\n",
    "transaction.SetBody(transactionBody);\n",
    "transaction.SetWitnesses(witnessSet);\n",
    "\n",
    "//get a draft transaction to calculate fee\n",
    "var draft = transaction.Build(); \n",
    "var fee = draft.CalculateFee(protocolParameters.MinFeeA, protocolParameters.MinFeeB);\n",
    "\n",
    "//update fee and change output\n",
    "transactionBody.SetFee(fee);\n",
    "var raw = transaction.Build();\n",
    "raw.TransactionBody.TransactionOutputs.Last().Value.Coin -= fee;\n",
    "Console.WriteLine(raw.Serialize().ToStringHex());\n"
   ]
  },
  {
   "cell_type": "markdown",
   "metadata": {},
   "source": [
    "### Step 6: Submit Transaction"
   ]
  },
  {
   "cell_type": "code",
   "execution_count": 45,
   "metadata": {
    "dotnet_interactive": {
     "language": "csharp"
    },
    "vscode": {
     "languageId": "dotnet-interactive.csharp"
    }
   },
   "outputs": [
    {
     "name": "stdout",
     "output_type": "stream",
     "text": [
      "{\"TransactionBody\":{\"TransactionInputs\":[{\"TransactionId\":\"qAbs1YdDp5alPQaUcBly6D4/N7IYkpLN+O5hXvvZ+Sg=\",\"TransactionIndex\":0}],\"TransactionOutputs\":[{\"Address\":\"AK3/jJ8Vkc0i+vr7xmQmgE9/x66VxPU84FZ4q9ioOtiot89Ny1zdtXrflxxLWoQ0YwtS19/6W5Zv\",\"Value\":{\"Coin\":5000000,\"MultiAsset\":null}},{\"Address\":\"MBD8RVBXSuIZZfyEc4+9Wy0CjeTMjCWxtI0+SyDp0b9I+v4cMYvjPZ8F+jFxN+wdBDoof+BDuRVK\",\"Value\":{\"Coin\":19824379,\"MultiAsset\":null}}],\"Fee\":175621,\"Ttl\":71649626,\"Certificate\":null,\"Withdrawls\":null,\"Update\":null,\"MetadataHash\":null,\"TransactionStartInterval\":null,\"Mint\":{}},\"TransactionWitnessSet\":{\"VKeyWitnesses\":[{\"VKey\":{\"Key\":\"lm2HYHUAKp+AtkA3wSycUmDzkCTYbCnGZ/oUiSOgpSo=\",\"Chaincode\":null},\"SKey\":null,\"Signature\":\"lsyRT6wsdDe52KPQuyanryUTW0U2gqyUZzOYh7aDPj5BkfLuGsUvuv57qeRS9n5qpBYcbRDca5r6D3N36sMUBg==\",\"IsMock\":false},{\"VKey\":{\"Key\":\"gLt4FCG1IaXA6ZBC8rBdjqXIdtjj9wDeALb+jNfP+Hs=\",\"Chaincode\":null},\"SKey\":null,\"Signature\":\"/sMDan3Nx9ggdjvnjeGUqbqicqO9+TtjMXvpSByqsm+z8u7ev2s7Eet3oiyY9yNtWJpZTt14P39QX+dyfOOtDA==\",\"IsMock\":false}],\"NativeScripts\":[{\"ScriptPubKey\":null,\"ScriptAll\":{\"NativeScripts\":[{\"ScriptPubKey\":{\"KeyHash\":\"z2bk3+4nUQpSY9YLu343G+ETPqNluMV4swmMLg==\"},\"ScriptAll\":null,\"ScriptAny\":null,\"ScriptNofK\":null,\"InvalidAfter\":null,\"InvalidBefore\":null},{\"ScriptPubKey\":{\"KeyHash\":\"C5OnSpUr5lDVjO0ig+BFRl3E84gQd+u2R7LHnA==\"},\"ScriptAll\":null,\"ScriptAny\":null,\"ScriptNofK\":null,\"InvalidAfter\":null,\"InvalidBefore\":null}]},\"ScriptAny\":null,\"ScriptNofK\":null,\"InvalidAfter\":null,\"InvalidBefore\":null}],\"BootStrapWitnesses\":null},\"IsValid\":true,\"AuxiliaryData\":null}\r\n",
      "Sending...\r\n",
      "\"46fe9439b620443c5fa3cae06c005ab1d463aa4f7782428eef8daf7842196cba\"\r\n",
      "Object reference not set to an instance of an object."
     ]
    }
   ],
   "source": [
    "using CardanoSharp.Wallet.Extensions;\n",
    "var transactionClient = RestService.For<ITransactionClient>(\"https://testnet.koios.rest/api/v0\");\n",
    "\n",
    "var signed = raw.Serialize();\n",
    "try {\n",
    "    using (MemoryStream stream = new MemoryStream(signed))\n",
    "    {\n",
    "        try\n",
    "        {\n",
    "            Console.WriteLine(\"Sending...\");\n",
    "            var result = transactionClient.Submit(stream).Result;\n",
    "            Console.WriteLine($\"Tx ID: {result.Content}\");\n",
    "        }\n",
    "        catch (Exception e)\n",
    "        {\n",
    "            Console.Write(e.Message);\n",
    "        }\n",
    "    }\n",
    "}\n",
    "catch(Exception e) \n",
    "{\n",
    "    Console.WriteLine(e.Message);\n",
    "}"
   ]
  },
  {
   "cell_type": "markdown",
   "metadata": {},
   "source": [
    "### Bonus: Realistic Example\n",
    "\n",
    "Lets assume that the transaction needs to be passed around to be signed. We'll even assume that our initial transaction was built by neither party who needs to sign."
   ]
  },
  {
   "cell_type": "code",
   "execution_count": 27,
   "metadata": {
    "dotnet_interactive": {
     "language": "csharp"
    },
    "vscode": {
     "languageId": "dotnet-interactive.csharp"
    }
   },
   "outputs": [],
   "source": [
    "using System.IO;\n",
    "using Newtonsoft.Json;\n",
    "using CardanoSharp.Wallet.CIPs.CIP2;\n",
    "using CardanoSharp.Wallet.CIPs.CIP2.Models;\n",
    "using CardanoSharp.Wallet.Models.Transactions;\n",
    "using CardanoSharp.Wallet.Extensions;\n",
    "using CardanoSharp.Wallet.Extensions.Models.Transactions;\n",
    "using CardanoSharpAsset = CardanoSharp.Wallet.Models.Asset;\n",
    "using CardanoSharp.Koios.Client;\n",
    "using Refit;\n",
    "\n",
    "//setup koios clients\n",
    "var addressClient = RestService.For<IAddressClient>(\"https://testnet.koios.rest/api/v0\");\n",
    "var networkClient = RestService.For<INetworkClient>(\"https://testnet.koios.rest/api/v0\");\n",
    "var epochClient = RestService.For<IEpochClient>(\"https://testnet.koios.rest/api/v0\");\n",
    "\n",
    "//1. Get UTxOs\n",
    "var utxos = await GetUtxos(multiSigAddress.ToString());\n",
    "\n",
    "///2. Create the Body\n",
    "var transactionBody = TransactionBodyBuilder.Create;\n",
    "\n",
    "//set outputs\n",
    "transactionBody.AddOutput(\"addr_test1qzkllrylzkgu6gh6ltauvepxsp8hl3awjhz0208q2eu2hk9g8tv23d70fh94ehd40t0ew8ztt2zrgcct2ttal7jmjehsfe79m2\".ToAddress().GetBytes(), 5000000);\n",
    "\n",
    "//perform coin selection\n",
    "var coinSelection = ((TransactionBodyBuilder)transactionBody).UseLargestFirstWithImprove(utxos);\n",
    "\n",
    "//add the inputs from coin selection to transaction body builder\n",
    "AddInputsFromCoinSelection(coinSelection, transactionBody);\n",
    "\n",
    "//if we have change from coin selection, add to outputs\n",
    "if (coinSelection.ChangeOutputs is not null && coinSelection.ChangeOutputs.Any())\n",
    "{\n",
    "    AddChangeOutputs(transactionBody, coinSelection.ChangeOutputs, multiSigAddress.ToString());\n",
    "}\n",
    "\n",
    "//get protocol parameters and set default fee\n",
    "var epochResponse = await epochClient.GetEpochInformation();\n",
    "var ppResponse = await epochClient.GetProtocolParameters();\n",
    "var protocolParameters = ppResponse.Content.FirstOrDefault();\n",
    "transactionBody.SetFee(protocolParameters.MinFeeB.Value);\n",
    "\n",
    "//get network tip and set ttl\n",
    "var blockSummaries = (await networkClient.GetChainTip()).Content;\n",
    "var ttl = 2500 + (uint)blockSummaries.First().AbsSlot;\n",
    "transactionBody.SetTtl(ttl);\n",
    "\n",
    "////////////////////////////////////////////////////////////////\n",
    "///3. Mock Witnesses\n",
    "//Change 1\n",
    "var witnessSet = TransactionWitnessSetBuilder.Create\n",
    "    .MockVKeyWitness(2);\n",
    "////////////////////////////////////////////////////////////////\n",
    "\n",
    "///4. Build Draft TX\n",
    "//create transaction builder and add the pieces\n",
    "var transaction = TransactionBuilder.Create;\n",
    "transaction.SetBody(transactionBody);\n",
    "transaction.SetWitnesses(witnessSet);\n",
    "\n",
    "//get a draft transaction to calculate fee\n",
    "var draft = transaction.Build(); \n",
    "\n",
    "////////////////////////////////////////////////////////////////\n",
    "//Change 2\n",
    "draft.TransactionWitnessSet.NativeScripts.Add(\n",
    "    new NativeScript() {\n",
    "        ScriptAll = paymentPolicyScriptBuilder.Build()\n",
    "    });\n",
    "////////////////////////////////////////////////////////////////\n",
    "\n",
    "var fee = draft.CalculateFee(protocolParameters.MinFeeA, protocolParameters.MinFeeB);\n",
    "\n",
    "//update fee and change output\n",
    "transactionBody.SetFee(fee);\n",
    "var rawMocked = transaction.Build();\n",
    "rawMocked.TransactionBody.TransactionOutputs.Last().Value.Coin -= fee;\n"
   ]
  },
  {
   "cell_type": "markdown",
   "metadata": {},
   "source": [
    "Now who ever generated the unsigned transaction will send it to actor 1 and actor 2."
   ]
  },
  {
   "cell_type": "code",
   "execution_count": 28,
   "metadata": {
    "dotnet_interactive": {
     "language": "csharp"
    },
    "vscode": {
     "languageId": "dotnet-interactive.csharp"
    }
   },
   "outputs": [],
   "source": [
    "//Hash the tx body to sign\n",
    "var txBodyHash = HashUtility.Blake2b256(rawMocked.TransactionBody.GetCBOR(rawMocked.AuxiliaryData).EncodeToBytes());\n",
    "\n",
    "//First Key Sign\n",
    "var vkeyWitness1 = new VKeyWitness(){\n",
    "    VKey = paymentNode1.PublicKey,\n",
    "    Signature = paymentNode1.PrivateKey.Sign(txBodyHash)\n",
    "};\n",
    "\n",
    "//Second Key Sign\n",
    "var vkeyWitness2 = new VKeyWitness(){\n",
    "    VKey = paymentNode2.PublicKey,\n",
    "    Signature = paymentNode2.PrivateKey.Sign(txBodyHash)\n",
    "};"
   ]
  },
  {
   "cell_type": "markdown",
   "metadata": {},
   "source": [
    "Once both actors sign the transaction, they send back to the transaction builder for submission."
   ]
  },
  {
   "cell_type": "code",
   "execution_count": 29,
   "metadata": {
    "dotnet_interactive": {
     "language": "csharp"
    },
    "vscode": {
     "languageId": "dotnet-interactive.csharp"
    }
   },
   "outputs": [
    {
     "name": "stdout",
     "output_type": "stream",
     "text": [
      "84a4008182582046fe9439b620443c5fa3cae06c005ab1d463aa4f7782428eef8daf7842196cba01018282583900adff8c9f1591cd22fafafbc66426804f7fc7ae95c4f53ce05678abd8a83ad8a8b7cf4dcb5cddb57adf971c4b5a8434630b52d7dffa5b966f1a004c4b408258393010fc4550574ae21965fc84738fbd5b2d028de4cc8c25b1b48d3e4b20e9d1bf48fafe1c318be33d9f05fa317137ec1d043a287fe043b9154a1a00df85b6021a0002ae05031a04472644a20082825820966d876075002a9f80b64037c12c9c5260f39024d86c29c667fa148923a0a52a5840f8ddb91d568b52d3a7af30975d27553a73423e40ba2f41d9c0de75c8ecda0588b062f6455dd8292f35ffbae7d94da05f4a68e5d4933b76b20cbc25134d6e7b0382582080bb781421b521a5c0e99042f2b05d8ea5c876d8e3f700de00b6fe8cd7cff87b5840e044fada57427526d59f6c3a4e71ba00e90232cecbfd23506d25fbb6ab056bde6928d6c128cb3b3ff647a02b2d89d6128a8581fa0c87d7cab364612a160fa00901818201828200581ccf66e4dfee27510a5263d60bbb7e371be1133ea365b8c578b3098c2e8200581c0b93a74a952be650d58ced2283e045465dc4f3881077ebb647b2c79cf5f6\r\n",
      "Sending...\r\n",
      "Tx ID: \"c98b2176635c3834cbd05cfeec8cb88d899cec63cebe00f97cbcd26c0eb848ee\"\r\n"
     ]
    }
   ],
   "source": [
    "//get network tip and set ttl\n",
    "var blockSummaries = (await networkClient.GetChainTip()).Content;\n",
    "var ttl = 2500 + (uint)blockSummaries.First().AbsSlot;\n",
    "rawMocked.TransactionBody.Ttl = ttl;\n",
    "\n",
    "//reset and add signatures\n",
    "rawMocked.TransactionWitnessSet.VKeyWitnesses.Clear();\n",
    "rawMocked.TransactionWitnessSet.VKeyWitnesses.Add(vkeyWitness1);\n",
    "rawMocked.TransactionWitnessSet.VKeyWitnesses.Add(vkeyWitness2);\n",
    "\n",
    "//submit tx\n",
    "var transactionClient = RestService.For<ITransactionClient>(\"https://testnet.koios.rest/api/v0\");\n",
    "\n",
    "var signed = rawMocked.Serialize();\n",
    "Console.WriteLine(signed.ToStringHex());\n",
    "try {\n",
    "    using (MemoryStream stream = new MemoryStream(signed))\n",
    "    {\n",
    "        try\n",
    "        {\n",
    "            Console.WriteLine(\"Sending...\");\n",
    "            var result = transactionClient.Submit(stream).Result;\n",
    "            if(result.Content is not null)\n",
    "                Console.WriteLine($\"Tx ID: {result.Content}\");\n",
    "            else \n",
    "                Console.WriteLine(result.Error.Content);\n",
    "        }\n",
    "        catch (Exception e)\n",
    "        {\n",
    "            Console.Write(e.Message);\n",
    "        }\n",
    "    }\n",
    "}\n",
    "catch(Exception e) \n",
    "{\n",
    "    Console.WriteLine(e.Message);\n",
    "}"
   ]
  }
 ],
 "metadata": {
  "kernelspec": {
   "display_name": ".NET (C#)",
   "language": "C#",
   "name": ".net-csharp"
  },
  "language_info": {
   "file_extension": ".cs",
   "mimetype": "text/x-csharp",
   "name": "C#",
   "pygments_lexer": "csharp",
   "version": "9.0"
  },
  "orig_nbformat": 4
 },
 "nbformat": 4,
 "nbformat_minor": 2
}
